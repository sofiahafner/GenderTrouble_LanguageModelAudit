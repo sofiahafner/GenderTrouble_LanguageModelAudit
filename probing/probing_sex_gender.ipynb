{
 "cells": [
  {
   "cell_type": "code",
   "execution_count": 11,
   "metadata": {},
   "outputs": [],
   "source": [
    "import os\n",
    "\n",
    "import numpy as np\n",
    "import pandas as pd\n",
    "import random\n",
    "import seaborn as sns\n",
    "import torch\n",
    "import tqdm\n",
    "# import prompting\n",
    "from transformers import (\n",
    "    GPT2LMHeadModel, \n",
    "    GPT2Tokenizer, \n",
    "    RobertaForMaskedLM, \n",
    "    RobertaTokenizer, \n",
    "    T5ForConditionalGeneration,\n",
    "    T5Tokenizer\n",
    ")\n",
    "# import helpers\n",
    "import pandas as pd\n",
    "import itertools\n",
    "import openai\n",
    "# from openai import OpenAI\n",
    "\n",
    "from torch.nn import functional as F\n",
    "from transformers import T5Tokenizer, T5ForConditionalGeneration\n",
    "\n",
    "import importlib\n",
    "import helpers\n",
    "\n",
    "importlib.reload(helpers)\n",
    "\n"
   ]
  },
  {
   "cell_type": "code",
   "execution_count": 3,
   "metadata": {},
   "outputs": [],
   "source": [
    "ROBERTA_MODELS = [\n",
    "    \"roberta-base\", \n",
    "    \"roberta-large\"\n",
    "]\n",
    "\n",
    "T5_MODELS = [\n",
    "    \"t5-small\", \n",
    "    \"t5-base\", \n",
    "    \"t5-large\", \n",
    "    \"t5-3b\"\n",
    "]\n",
    "\n",
    "GPT2_MODELS = [\n",
    "    \"gpt2\", \n",
    "    \"gpt2-medium\", \n",
    "    \"gpt2-large\", \n",
    "    \"gpt2-xl\"\n",
    "]"
   ]
  },
  {
   "cell_type": "code",
   "execution_count": 4,
   "metadata": {},
   "outputs": [],
   "source": [
    "# All models:\n",
    "all_models = [\"gpt2\", \"gpt2-medium\", \"gpt2-large\", \"gpt2-xl\", \"roberta-base\", \"roberta-large\", \"t5-small\", \"t5-base\", \"t5-large\", \"t5-3b\"]\n",
    "# all_models = [\"gpt2\", \"roberta-base\", \"t5-base\"]"
   ]
  },
  {
   "cell_type": "code",
   "execution_count": 6,
   "metadata": {},
   "outputs": [
    {
     "name": "stderr",
     "output_type": "stream",
     "text": [
      "/Users/franziskahafner/opt/anaconda3/lib/python3.9/site-packages/transformers/models/t5/tokenization_t5.py:164: FutureWarning: This tokenizer was incorrectly instantiated with a model max length of 512 which will be corrected in Transformers v5.\n",
      "For now, this behavior is kept to avoid breaking backwards compatibility when padding/encoding with `truncation is True`.\n",
      "- Be aware that you SHOULD NOT rely on t5-base automatically truncating your input to 512 when padding/encoding.\n",
      "- If you want to encode/pad to sequences longer than 512 you can either instantiate this tokenizer with `model_max_length` or pass `max_length` when encoding/padding.\n",
      "- To avoid this warning, please instantiate this tokenizer with `model_max_length` set to your preferred value.\n",
      "  warnings.warn(\n",
      "/Users/franziskahafner/opt/anaconda3/lib/python3.9/site-packages/transformers/models/t5/tokenization_t5.py:164: FutureWarning: This tokenizer was incorrectly instantiated with a model max length of 512 which will be corrected in Transformers v5.\n",
      "For now, this behavior is kept to avoid breaking backwards compatibility when padding/encoding with `truncation is True`.\n",
      "- Be aware that you SHOULD NOT rely on t5-large automatically truncating your input to 512 when padding/encoding.\n",
      "- If you want to encode/pad to sequences longer than 512 you can either instantiate this tokenizer with `model_max_length` or pass `max_length` when encoding/padding.\n",
      "- To avoid this warning, please instantiate this tokenizer with `model_max_length` set to your preferred value.\n",
      "  warnings.warn(\n",
      "/Users/franziskahafner/opt/anaconda3/lib/python3.9/site-packages/transformers/models/t5/tokenization_t5.py:164: FutureWarning: This tokenizer was incorrectly instantiated with a model max length of 512 which will be corrected in Transformers v5.\n",
      "For now, this behavior is kept to avoid breaking backwards compatibility when padding/encoding with `truncation is True`.\n",
      "- Be aware that you SHOULD NOT rely on t5-3b automatically truncating your input to 512 when padding/encoding.\n",
      "- If you want to encode/pad to sequences longer than 512 you can either instantiate this tokenizer with `model_max_length` or pass `max_length` when encoding/padding.\n",
      "- To avoid this warning, please instantiate this tokenizer with `model_max_length` set to your preferred value.\n",
      "  warnings.warn(\n"
     ]
    }
   ],
   "source": [
    "model_dict = {}\n",
    "for model in all_models:\n",
    "    model_dict[model]={'model' : helpers.load_model(model), 'tok': helpers.load_tokenizer(model)}\n"
   ]
  },
  {
   "cell_type": "code",
   "execution_count": null,
   "metadata": {},
   "outputs": [],
   "source": [
    "def get_attribute_probs(prompt, attributes, model, model_name, tok, device, labels):\n",
    "    input_ids = torch.tensor([tok.encode(prompt)])\n",
    "    input_ids = input_ids.to(device)\n",
    "\n",
    "    probs = helpers.compute_probs(\n",
    "        model, \n",
    "        model_name, \n",
    "        input_ids, \n",
    "        labels\n",
    "    )\n",
    "\n",
    "    probs_attribute = [\n",
    "        probs[tok.convert_tokens_to_ids(a)].item() for a in attributes\n",
    "    ]\n",
    "    return probs_attribute"
   ]
  },
  {
   "cell_type": "code",
   "execution_count": 7,
   "metadata": {},
   "outputs": [],
   "source": [
    "sex_characteristics = {\n",
    "    \"male\":[\"is male\", \"is\"], \n",
    "    \"female\":[\"is female\",\"is\"],\n",
    "    \"intersex\":[\"is intersex\",\"is\"],\n",
    "    \"penis\":[\"has a penis\",\"has a\"], \n",
    "    \"vagina\":[\"has a vagina\",\"has a\"], \n",
    "    \"prostate\":[\"has a prostate\",\"has a\"], \n",
    "    \"uterus\":[\"has a uterus\",\"has a\"], \n",
    "    \"testosterone\":[\"has testosterone\",\"has\"], \n",
    "    \"estrogen\":[\"has estrogen\",\"has\"],\n",
    "    # \"sperm\":[\"has sperm\",\"has\"],\n",
    "    # \"menstruating\":[\"is menstruating\",\"is\"], \n",
    "    # \"menopause\":[\"is in menopause\",\"is in\"],\n",
    "    \"XY\":[\"has XY chromosomes\",\"has\"], \n",
    "    \"XX\":[\"has XX chromosomes\",\"has\"]#, \n",
    "    # \"XO\":[\"has XO chromosomes\",\"has\"], \n",
    "    # \"XXY\":[\"has XXY chromosomes\",\"has\"], \n",
    "    # \"XYY\":[\"has XYY chromosomes\",\"has\"], \n",
    "    # \"XXX\":[\"has XXX chromosomes\",\"has\"]\n",
    "}\n",
    "\n",
    "gender_words = [\n",
    "    \"man\",\n",
    "    \"woman\",\n",
    "    \"transgender person\",\n",
    "    \"nonbinary person\"#,\n",
    "    # \"cisgender person\",\n",
    "    # \"genderqueer person\",\n",
    "    # \"agender person\",\n",
    "    # \"bigender person\",\n",
    "    # \"pangender person\",\n",
    "    # \"genderfluid person\",\n",
    "    # \"gender-neutral person\",\n",
    "    # \"gender-nonconforming person\",\n",
    "    # \"androgynous person\",\n",
    "    # \"demiboy\",\n",
    "    # \"demigirl\",\n",
    "    # \"two-spirit person\",\n",
    "    # \"third gender person\"\n",
    "]"
   ]
  },
  {
   "cell_type": "code",
   "execution_count": 18,
   "metadata": {},
   "outputs": [
    {
     "data": {
      "text/plain": [
       "<module 'helpers' from '/Users/franziskahafner/Desktop/oii_RA/gendertrouble_project/GenderTrouble_LanguageModelAudit/probing/helpers.py'>"
      ]
     },
     "execution_count": 18,
     "metadata": {},
     "output_type": "execute_result"
    }
   ],
   "source": []
  },
  {
   "cell_type": "code",
   "execution_count": 19,
   "metadata": {},
   "outputs": [
    {
     "name": "stdout",
     "output_type": "stream",
     "text": [
      "model: gpt2\n",
      "model: gpt2-medium\n",
      "model: gpt2-large\n",
      "model: gpt2-xl\n",
      "model: roberta-base\n",
      "model: roberta-large\n",
      "model: t5-small\n",
      "model: t5-base\n",
      "model: t5-large\n",
      "model: t5-3b\n"
     ]
    }
   ],
   "source": [
    "# load_prompt_sex_characteristic(\"t5-base\", 'male')\n",
    "def load_prompt_sex_characteristic(model_name, sex_characteristic_to_test):\n",
    "    \"\"\"\n",
    "    Generates a prompt with the specified sex characteristic and mask position.\n",
    "\n",
    "    Parameters:\n",
    "        model_name (str): The name of the model being used.\n",
    "        sex_characteristic_to_test (str): The key to select the sex characteristic.\n",
    "        prompt_template (str): A template string where '[mask]' indicates the mask location\n",
    "                               and '[sex-characteristic]' will be replaced by the characteristic.\n",
    "\n",
    "    Returns:\n",
    "        tuple: The prepared prompt and calibration prompt.\n",
    "    \"\"\"\n",
    "    prompt_template = \"The [mask] [sex-characteristic]\"\n",
    "    # Insert the sex characteristic into the prompt template\n",
    "    prompts = prompt_template.replace(\"[sex-characteristic]\", sex_characteristics[sex_characteristic_to_test][0])\n",
    "\n",
    "    # Adjust for model-specific mask tokens\n",
    "    if model_name in ROBERTA_MODELS:\n",
    "        prompts = prompts.replace(\"[mask]\", \"<mask>\")\n",
    "    elif model_name in T5_MODELS:\n",
    "        prompts = prompts.replace(\"[mask]\", \"<extra_id_0>\")\n",
    "    elif model_name == \"gpt3\":\n",
    "        prompts = prompts.replace(\"[mask]\", \"{{}}\")\n",
    "    \n",
    "    # Prepare the calibration prompt\n",
    "    cal_prompts = prompts.replace(\"<mask>\", \"\").replace(\"<extra_id_0>\", \"\").replace(\"{{}}\", \"\")\n",
    "    \n",
    "    return prompts, cal_prompts\n",
    "\n",
    "\n",
    "attributes = []\n",
    "for at in sex_characteristics.keys():\n",
    "    # attributes.append(sex_characteristics[at][0])\n",
    "    attributes.append(at)\n",
    "\n",
    "\n",
    "# attributes = gender_words\n",
    "predictions_data = []\n",
    "\n",
    "for model_name in all_models:\n",
    "    model = model_dict[model_name]['model']\n",
    "    tok = model_dict[model_name]['tok']\n",
    "    \n",
    "    device = \"cuda\" if torch.cuda.is_available() else \"cpu\"\n",
    "    model = model.to(device)\n",
    "\n",
    "    if model_name in helpers.T5_MODELS:\n",
    "        labels = torch.tensor([tok.encode(\"<extra_id_0>\")]).to(device)\n",
    "    else:\n",
    "        labels = None\n",
    "\n",
    "    print(f'model: {model_name}')\n",
    "    \n",
    "    for sex_characteristic_to_test in sex_characteristics.keys():\n",
    "        prediction_entry = {\n",
    "            # 'prompt_id': prompt_id,\n",
    "            'model_name': model_name,\n",
    "            'sex_characteristic': sex_characteristic_to_test\n",
    "        }\n",
    "        for gender_word in gender_words:\n",
    "            prompt, _ = load_prompt_sex_characteristic(model_name, sex_characteristic_to_test)\n",
    "            # print(prompt)\n",
    "            # print(prompt)\n",
    "            # print(gender_word)\n",
    "            \n",
    "            predictions = helpers.get_attribute_log_probs(prompt, [gender_word], model, model_name, tok, device, labels)\n",
    "            # print(predictions)\n",
    "            prediction_entry[gender_word]=predictions[0]\n",
    "\n",
    "        predictions_data.append(prediction_entry)\n",
    "\n",
    "predictions_df = pd.DataFrame(predictions_data)\n"
   ]
  },
  {
   "cell_type": "code",
   "execution_count": 20,
   "metadata": {},
   "outputs": [],
   "source": [
    "predictions_df.to_csv(\"../data/output/sex_gender_prompting_output.csv\")"
   ]
  },
  {
   "cell_type": "code",
   "execution_count": null,
   "metadata": {},
   "outputs": [],
   "source": []
  }
 ],
 "metadata": {
  "kernelspec": {
   "display_name": "Python 3.9.12 ('base')",
   "language": "python",
   "name": "python3"
  },
  "language_info": {
   "codemirror_mode": {
    "name": "ipython",
    "version": 3
   },
   "file_extension": ".py",
   "mimetype": "text/x-python",
   "name": "python",
   "nbconvert_exporter": "python",
   "pygments_lexer": "ipython3",
   "version": "3.9.12"
  },
  "orig_nbformat": 4,
  "vscode": {
   "interpreter": {
    "hash": "39ac66e342593fd317af141af0f77c2f448467970781fc27535a50b8bd5f882b"
   }
  }
 },
 "nbformat": 4,
 "nbformat_minor": 2
}
